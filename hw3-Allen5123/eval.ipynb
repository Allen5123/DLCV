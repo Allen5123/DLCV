{
 "cells": [
  {
   "cell_type": "code",
   "execution_count": 1,
   "metadata": {},
   "outputs": [
    {
     "name": "stdout",
     "output_type": "stream",
     "text": [
      "100%|███████████████████████████████████████| 338M/338M [00:06<00:00, 57.3MiB/s]\n",
      "100%|███████████████████████████████████████| 891M/891M [00:18<00:00, 51.7MiB/s]\n",
      "Downloading...\n",
      "From: https://drive.google.com/uc?id=18YR_NVozQ5TPyLFFgVJ29WoviMJaWVIG\n",
      "To: /home/allen/DLCV/hw3-Allen5123/hw3_2.pth\n",
      "100%|███████████████████████████████████████| 2.26G/2.26G [00:19<00:00, 113MB/s]\n"
     ]
    }
   ],
   "source": [
    "!bash hw3_download.sh"
   ]
  },
  {
   "cell_type": "code",
   "execution_count": 2,
   "metadata": {},
   "outputs": [
    {
     "name": "stdout",
     "output_type": "stream",
     "text": [
      "Device used : cuda\n",
      "input <--- /data/dlcv/hw3/hw3_data/p1_data/val/ /data/dlcv/hw3/hw3_data/p1_data/id2label.json\n",
      "output ---> ./pred.csv\n",
      "Start\n",
      "[320/2500]\n",
      "[640/2500]\n",
      "[960/2500]\n",
      "[1280/2500]\n",
      "[1600/2500]\n",
      "[1920/2500]\n",
      "[2240/2500]\n",
      "[2560/2500]\n",
      "[2500/2500]\n"
     ]
    }
   ],
   "source": [
    "!bash hw3_1.sh /data/dlcv/hw3/hw3_data/p1_data/val/ /data/dlcv/hw3/hw3_data/p1_data/id2label.json ./pred.csv"
   ]
  },
  {
   "cell_type": "code",
   "execution_count": 3,
   "metadata": {},
   "outputs": [
    {
     "name": "stdout",
     "output_type": "stream",
     "text": [
      "Device used : cuda\n",
      "Input <----- /data/dlcv/hw3/hw3_data/p2_data/images/val/\n",
      "Output -----> pred.json\n",
      "Load model from hw3_2.pth\n",
      "1/56\n",
      "2/56\n",
      "3/56\n",
      "4/56\n",
      "5/56\n",
      "6/56\n",
      "7/56\n",
      "8/56\n",
      "9/56\n",
      "10/56\n",
      "11/56\n",
      "12/56\n",
      "13/56\n",
      "14/56\n",
      "15/56\n",
      "16/56\n",
      "17/56\n",
      "18/56\n",
      "19/56\n",
      "20/56\n",
      "21/56\n",
      "22/56\n",
      "23/56\n",
      "24/56\n",
      "25/56\n",
      "26/56\n",
      "27/56\n",
      "28/56\n",
      "29/56\n",
      "30/56\n",
      "31/56\n",
      "32/56\n",
      "33/56\n",
      "34/56\n",
      "35/56\n",
      "36/56\n",
      "37/56\n",
      "38/56\n",
      "39/56\n",
      "40/56\n",
      "41/56\n",
      "42/56\n",
      "43/56\n",
      "44/56\n",
      "45/56\n",
      "46/56\n",
      "47/56\n",
      "48/56\n",
      "49/56\n",
      "50/56\n",
      "51/56\n",
      "52/56\n",
      "53/56\n",
      "54/56\n",
      "55/56\n",
      "56/56\n"
     ]
    }
   ],
   "source": [
    "!bash hw3_2.sh /data/dlcv/hw3/hw3_data/p2_data/images/val/ pred.json"
   ]
  },
  {
   "cell_type": "code",
   "execution_count": 4,
   "metadata": {},
   "outputs": [
    {
     "name": "stdout",
     "output_type": "stream",
     "text": [
      "PTBTokenizer tokenized 110968 tokens at 575726.53 tokens per second.\n",
      "PTBTokenizer tokenized 21449 tokens at 237459.46 tokens per second.\n",
      "CIDEr: 0.8928685290107622 | CLIPScore: 0.7105537870864485\n"
     ]
    }
   ],
   "source": [
    "!python3 p2_evaluate.py --pred_file pred.json --images_root /data/dlcv/hw3/hw3_data/p2_data/images/val/ --annotation_file /data/dlcv/hw3/hw3_data/p2_data/val.json"
   ]
  }
 ],
 "metadata": {
  "kernelspec": {
   "display_name": "Python 3.10.6 ('dlcv')",
   "language": "python",
   "name": "python3"
  },
  "language_info": {
   "codemirror_mode": {
    "name": "ipython",
    "version": 3
   },
   "file_extension": ".py",
   "mimetype": "text/x-python",
   "name": "python",
   "nbconvert_exporter": "python",
   "pygments_lexer": "ipython3",
   "version": "3.10.8"
  },
  "orig_nbformat": 4,
  "vscode": {
   "interpreter": {
    "hash": "b129b87ef853288e118a1f4c2954e4d8b1d47adc530c957c0432333233c73696"
   }
  }
 },
 "nbformat": 4,
 "nbformat_minor": 2
}

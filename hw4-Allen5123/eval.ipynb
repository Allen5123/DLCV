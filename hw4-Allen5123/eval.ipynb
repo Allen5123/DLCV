{
 "cells": [
  {
   "cell_type": "code",
   "execution_count": 5,
   "metadata": {},
   "outputs": [
    {
     "name": "stdout",
     "output_type": "stream",
     "text": [
      "/home/allen/anaconda3/envs/dlcv/lib/python3.10/site-packages/mmcv/__init__.py:20: UserWarning: On January 1, 2023, MMCV will release v2.0.0, in which it will remove components related to the training process and add a data transformation module. In addition, it will rename the package names mmcv to mmcv-lite and mmcv-full to mmcv. See https://github.com/open-mmlab/mmcv/blob/master/docs/en/compatibility.md for more details.\n",
      "  warnings.warn(\n",
      "Using /home/allen/.cache/torch_extensions/py310_cu117 as PyTorch extensions root...\n",
      "Detected CUDA files, patching ldflags\n",
      "Emitting ninja build file /home/allen/.cache/torch_extensions/py310_cu117/adam_upd_cuda/build.ninja...\n",
      "Building extension module adam_upd_cuda...\n",
      "Allowing ninja to set a default number of workers... (overridable by setting the environment variable MAX_JOBS=N)\n",
      "ninja: no work to do.\n",
      "Loading extension module adam_upd_cuda...\n",
      "Using /home/allen/.cache/torch_extensions/py310_cu117 as PyTorch extensions root...\n",
      "Detected CUDA files, patching ldflags\n",
      "Emitting ninja build file /home/allen/.cache/torch_extensions/py310_cu117/render_utils_cuda/build.ninja...\n",
      "Building extension module render_utils_cuda...\n",
      "Allowing ninja to set a default number of workers... (overridable by setting the environment variable MAX_JOBS=N)\n",
      "ninja: no work to do.\n",
      "Loading extension module render_utils_cuda...\n",
      "Using /home/allen/.cache/torch_extensions/py310_cu117 as PyTorch extensions root...\n",
      "Detected CUDA files, patching ldflags\n",
      "Emitting ninja build file /home/allen/.cache/torch_extensions/py310_cu117/total_variation_cuda/build.ninja...\n",
      "Building extension module total_variation_cuda...\n",
      "Allowing ninja to set a default number of workers... (overridable by setting the environment variable MAX_JOBS=N)\n",
      "ninja: no work to do.\n",
      "Loading extension module total_variation_cuda...\n",
      "Using /home/allen/.cache/torch_extensions/py310_cu117 as PyTorch extensions root...\n",
      "No modifications detected for re-loaded extension module render_utils_cuda, skipping build step...\n",
      "Loading extension module render_utils_cuda...\n",
      "Using /home/allen/.cache/torch_extensions/py310_cu117 as PyTorch extensions root...\n",
      "Detected CUDA files, patching ldflags\n",
      "Emitting ninja build file /home/allen/.cache/torch_extensions/py310_cu117/ub360_utils_cuda/build.ninja...\n",
      "Building extension module ub360_utils_cuda...\n",
      "Allowing ninja to set a default number of workers... (overridable by setting the environment variable MAX_JOBS=N)\n",
      "ninja: no work to do.\n",
      "Loading extension module ub360_utils_cuda...\n",
      "Device : cuda\n",
      "Load test set from val set\n",
      "Loaded blender (150, 800, 800, 4) torch.Size([160, 4, 4]) [800, 800, 1111.1110311937682] /data/dlcv/hw4/hotdog/\n",
      "train: start\n",
      "compute_bbox_by_cam_frustrm: start\n",
      "/home/allen/anaconda3/envs/dlcv/lib/python3.10/site-packages/torch/functional.py:504: UserWarning: torch.meshgrid: in an upcoming release, it will be required to pass the indexing argument. (Triggered internally at /opt/conda/conda-bld/pytorch_1666642969563/work/aten/src/ATen/native/TensorShape.cpp:3190.)\n",
      "  return _VF.meshgrid(tensors, **kwargs)  # type: ignore[attr-defined]\n",
      "compute_bbox_by_cam_frustrm: xyz_min tensor([-3.0141, -2.9397, -2.5941])\n",
      "compute_bbox_by_cam_frustrm: xyz_max tensor([2.9974, 2.9696, 2.3370])\n",
      "compute_bbox_by_cam_frustrm: finish\n",
      "scene_rep_reconstruction (coarse): reload from /data/allen/hw4model/test1/coarse_last.tar\n",
      "dvgo: set density bias shift to tensor([-13.8155], device='cpu')\n",
      "dvgo: voxel_size       tensor(0.0555)\n",
      "dvgo: world_size       tensor([108, 106,  88])\n",
      "dvgo: voxel_size_base  tensor(0.0555)\n",
      "dvgo: voxel_size_ratio tensor(1.)\n",
      "create_optimizer_or_freeze_model: param density lr 0.1\n",
      "create_optimizer_or_freeze_model: param k0 lr 0.1\n",
      "create_optimizer_or_freeze_model: param rgbnet not exist\n",
      "get_training_rays: start\n",
      "get_training_rays: finish (eps time: 0.021683692932128906 sec)\n",
      "dvgo: voxel_count_views start\n",
      "dvgo: voxel_count_views finish (eps time: 24.423903226852417 sec)\n",
      "0it [00:00, ?it/s]\n",
      "train: coarse geometry searching in 00:00:25\n",
      "savepath : /data/allen/hw4model/test1/coarse_last.tar\n",
      "compute_bbox_by_coarse_geo: start\n",
      "dvgo: set density bias shift to tensor([-13.8155], device='cpu')\n",
      "dvgo: voxel_size       tensor(0.0555)\n",
      "dvgo: world_size       tensor([108, 106,  88])\n",
      "dvgo: voxel_size_base  tensor(0.0555)\n",
      "dvgo: voxel_size_ratio tensor(1.)\n",
      "compute_bbox_by_coarse_geo: xyz_min tensor([-1.2163, -1.3076, -0.3836])\n",
      "compute_bbox_by_coarse_geo: xyz_max tensor([1.1995, 1.1124, 0.3532])\n",
      "compute_bbox_by_coarse_geo: finish (eps time: 0.05478549003601074 secs)\n",
      "scene_rep_reconstruction (fine): reload from /data/allen/hw4model/test1/fine_last.tar\n",
      "dvgo: set density bias shift to tensor([-4.5951], device='cpu')\n",
      "dvgo: voxel_size       tensor(0.0107)\n",
      "dvgo: world_size       tensor([237, 237,  72])\n",
      "dvgo: voxel_size_base  tensor(0.0107)\n",
      "dvgo: voxel_size_ratio tensor(1.)\n",
      "dvgo: feature voxel grid DenseGrid(channels=12, world_size=[237, 237, 72])\n",
      "dvgo: mlp Sequential(\n",
      "  (0): Linear(in_features=39, out_features=128, bias=True)\n",
      "  (1): ReLU(inplace=True)\n",
      "  (2): Sequential(\n",
      "    (0): Linear(in_features=128, out_features=128, bias=True)\n",
      "    (1): ReLU(inplace=True)\n",
      "  )\n",
      "  (3): Linear(in_features=128, out_features=3, bias=True)\n",
      ")\n",
      "create_optimizer_or_freeze_model: param density lr 0.1\n",
      "create_optimizer_or_freeze_model: param k0 lr 0.1\n",
      "create_optimizer_or_freeze_model: param rgbnet lr 0.001\n",
      "get_training_rays_in_maskcache_sampling: start\n",
      "get_training_rays_in_maskcache_sampling: ratio tensor(0.3959)\n",
      "get_training_rays_in_maskcache_sampling: finish (eps time: 5.169687509536743 sec)\n",
      "0it [00:00, ?it/s]\n",
      "train: fine detail reconstruction in 00:00:06\n",
      "train: finish (eps time 00:00:31 )\n",
      "dvgo: set density bias shift to tensor([-4.5951], device='cpu')\n",
      "dvgo: voxel_size       tensor(0.0107)\n",
      "dvgo: world_size       tensor([237, 237,  72])\n",
      "dvgo: voxel_size_base  tensor(0.0107)\n",
      "dvgo: voxel_size_ratio tensor(1.)\n",
      "dvgo: feature voxel grid DenseGrid(channels=12, world_size=[237, 237, 72])\n",
      "dvgo: mlp Sequential(\n",
      "  (0): Linear(in_features=39, out_features=128, bias=True)\n",
      "  (1): ReLU(inplace=True)\n",
      "  (2): Sequential(\n",
      "    (0): Linear(in_features=128, out_features=128, bias=True)\n",
      "    (1): ReLU(inplace=True)\n",
      "  )\n",
      "  (3): Linear(in_features=128, out_features=3, bias=True)\n",
      ")\n",
      "All results are dumped into /data/allen/hw4model/test1/output/\n",
      "  0%|                                                    | 0/50 [00:00<?, ?it/s]Testing (800, 800, 3)\n",
      "100%|███████████████████████████████████████████| 50/50 [00:27<00:00,  1.81it/s]\n",
      "Testing psnr 35.32339706420898 (avg)\n",
      "100%|███████████████████████████████████████████| 50/50 [00:22<00:00,  2.25it/s]\n",
      "Done\n"
     ]
    }
   ],
   "source": [
    "!python DirectVoxGO/run.py --config DirectVoxGO/configs/nerf/hotdog.py --render_test --dump_images /data/allen/hw4model/test1/output/"
   ]
  },
  {
   "cell_type": "code",
   "execution_count": 6,
   "metadata": {},
   "outputs": [
    {
     "name": "stdout",
     "output_type": "stream",
     "text": [
      "/home/allen/anaconda3/envs/dlcv/lib/python3.10/site-packages/mmcv/__init__.py:20: UserWarning: On January 1, 2023, MMCV will release v2.0.0, in which it will remove components related to the training process and add a data transformation module. In addition, it will rename the package names mmcv to mmcv-lite and mmcv-full to mmcv. See https://github.com/open-mmlab/mmcv/blob/master/docs/en/compatibility.md for more details.\n",
      "  warnings.warn(\n",
      "Using /home/allen/.cache/torch_extensions/py310_cu117 as PyTorch extensions root...\n",
      "Detected CUDA files, patching ldflags\n",
      "Emitting ninja build file /home/allen/.cache/torch_extensions/py310_cu117/adam_upd_cuda/build.ninja...\n",
      "Building extension module adam_upd_cuda...\n",
      "Allowing ninja to set a default number of workers... (overridable by setting the environment variable MAX_JOBS=N)\n",
      "ninja: no work to do.\n",
      "Loading extension module adam_upd_cuda...\n",
      "Using /home/allen/.cache/torch_extensions/py310_cu117 as PyTorch extensions root...\n",
      "Detected CUDA files, patching ldflags\n",
      "Emitting ninja build file /home/allen/.cache/torch_extensions/py310_cu117/render_utils_cuda/build.ninja...\n",
      "Building extension module render_utils_cuda...\n",
      "Allowing ninja to set a default number of workers... (overridable by setting the environment variable MAX_JOBS=N)\n",
      "ninja: no work to do.\n",
      "Loading extension module render_utils_cuda...\n",
      "Using /home/allen/.cache/torch_extensions/py310_cu117 as PyTorch extensions root...\n",
      "Detected CUDA files, patching ldflags\n",
      "Emitting ninja build file /home/allen/.cache/torch_extensions/py310_cu117/total_variation_cuda/build.ninja...\n",
      "Building extension module total_variation_cuda...\n",
      "Allowing ninja to set a default number of workers... (overridable by setting the environment variable MAX_JOBS=N)\n",
      "ninja: no work to do.\n",
      "Loading extension module total_variation_cuda...\n",
      "Using /home/allen/.cache/torch_extensions/py310_cu117 as PyTorch extensions root...\n",
      "No modifications detected for re-loaded extension module render_utils_cuda, skipping build step...\n",
      "Loading extension module render_utils_cuda...\n",
      "Using /home/allen/.cache/torch_extensions/py310_cu117 as PyTorch extensions root...\n",
      "Detected CUDA files, patching ldflags\n",
      "Emitting ninja build file /home/allen/.cache/torch_extensions/py310_cu117/ub360_utils_cuda/build.ninja...\n",
      "Building extension module ub360_utils_cuda...\n",
      "Allowing ninja to set a default number of workers... (overridable by setting the environment variable MAX_JOBS=N)\n",
      "ninja: no work to do.\n",
      "Loading extension module ub360_utils_cuda...\n",
      "Device : cuda\n",
      "Load test set from val set\n",
      "Loaded blender (150, 800, 800, 4) torch.Size([160, 4, 4]) [800, 800, 1111.1110311937682] /data/dlcv/hw4/hotdog/\n",
      "dvgo: set density bias shift to tensor([-4.5951], device='cpu')\n",
      "dvgo: voxel_size       tensor(0.0107)\n",
      "dvgo: world_size       tensor([237, 237,  72])\n",
      "dvgo: voxel_size_base  tensor(0.0107)\n",
      "dvgo: voxel_size_ratio tensor(1.)\n",
      "dvgo: feature voxel grid DenseGrid(channels=12, world_size=[237, 237, 72])\n",
      "dvgo: mlp Sequential(\n",
      "  (0): Linear(in_features=39, out_features=128, bias=True)\n",
      "  (1): ReLU(inplace=True)\n",
      "  (2): Sequential(\n",
      "    (0): Linear(in_features=128, out_features=128, bias=True)\n",
      "    (1): ReLU(inplace=True)\n",
      "  )\n",
      "  (3): Linear(in_features=128, out_features=3, bias=True)\n",
      ")\n",
      "/home/allen/anaconda3/envs/dlcv/lib/python3.10/site-packages/torch/functional.py:504: UserWarning: torch.meshgrid: in an upcoming release, it will be required to pass the indexing argument. (Triggered internally at /opt/conda/conda-bld/pytorch_1666642969563/work/aten/src/ATen/native/TensorShape.cpp:3190.)\n",
      "  return _VF.meshgrid(tensors, **kwargs)  # type: ignore[attr-defined]\n",
      "All results are dumped into /data/allen/hw4model/default/output/\n",
      "  0%|                                                    | 0/50 [00:00<?, ?it/s]Testing (800, 800, 3)\n",
      "100%|███████████████████████████████████████████| 50/50 [00:11<00:00,  4.41it/s]\n",
      "Testing psnr 35.180260848999026 (avg)\n",
      "100%|███████████████████████████████████████████| 50/50 [00:23<00:00,  2.13it/s]\n",
      "Done\n"
     ]
    }
   ],
   "source": [
    "!python DirectVoxGO/run.py --config DirectVoxGO/configs/nerf/hotdog.py --render_test --render_only --dump_images /data/allen/hw4model/default/output/ --ft_path /data/allen/hw4model/default/fine_last.tar"
   ]
  },
  {
   "cell_type": "code",
   "execution_count": 6,
   "metadata": {},
   "outputs": [
    {
     "name": "stdout",
     "output_type": "stream",
     "text": [
      "  0%|                                                    | 0/50 [00:00<?, ?it/s]init_lpips: lpips_alex\n",
      "Setting up [LPIPS] perceptual loss: trunk [alex], v[0.1], spatial [off]\n",
      "/home/allen/anaconda3/envs/dlcv/lib/python3.10/site-packages/torchvision/models/_utils.py:208: UserWarning: The parameter 'pretrained' is deprecated since 0.13 and may be removed in the future, please use 'weights' instead.\n",
      "  warnings.warn(\n",
      "/home/allen/anaconda3/envs/dlcv/lib/python3.10/site-packages/torchvision/models/_utils.py:223: UserWarning: Arguments other than a weight enum or `None` for 'weights' are deprecated since 0.13 and may be removed in the future. The current behavior is equivalent to passing `weights=AlexNet_Weights.IMAGENET1K_V1`. You can also use `weights=AlexNet_Weights.DEFAULT` to get the most up-to-date weights.\n",
      "  warnings.warn(msg)\n",
      "Loading model from: /home/allen/anaconda3/envs/dlcv/lib/python3.10/site-packages/lpips/weights/v0.1/alex.pth\n",
      "100%|███████████████████████████████████████████| 50/50 [01:09<00:00,  1.40s/it]\n",
      "Testing psnr 35.28258180618286 (avg)\n",
      "Testing ssim 0.9749223043666457 (avg)\n",
      "Testing lpips (alex) 0.021173626724630593 (avg)\n"
     ]
    }
   ],
   "source": [
    "!python3 grade.py /data/allen/hw4model/test1/output/ /data/dlcv/hw4/hotdog/val/"
   ]
  },
  {
   "cell_type": "code",
   "execution_count": 1,
   "metadata": {},
   "outputs": [
    {
     "name": "stdout",
     "output_type": "stream",
     "text": [
      "Downloading...\n",
      "From: https://drive.google.com/uc?id=1d3oouEkVXnq3BA5e0zGi82fWIJdHolHp\n",
      "To: /home/allen/DLCV/hw4-Allen5123/hw4_1_c.tar\n",
      "100%|███████████████████████████████████████| 49.4M/49.4M [00:00<00:00, 109MB/s]\n",
      "Downloading...\n",
      "From: https://drive.google.com/uc?id=11mS_667nql-DKT5S_mpq8wWfkKUuhMcd\n",
      "To: /home/allen/DLCV/hw4-Allen5123/hw4_1_f.tar\n",
      "100%|█████████████████████████████████████████| 635M/635M [00:05<00:00, 111MB/s]\n",
      "Downloading...\n",
      "From: https://drive.google.com/uc?id=1haLMygzbt5a6Y2rlsC2Z_5tmeQVzbsNy\n",
      "To: /home/allen/DLCV/hw4-Allen5123/hw4_2.pth\n",
      "100%|██████████████████████████████████████| 94.9M/94.9M [00:01<00:00, 86.7MB/s]\n"
     ]
    }
   ],
   "source": [
    "!bash hw4_download.sh"
   ]
  },
  {
   "cell_type": "code",
   "execution_count": 2,
   "metadata": {},
   "outputs": [
    {
     "name": "stdout",
     "output_type": "stream",
     "text": [
      "/home/allen/anaconda3/envs/dlcv/lib/python3.10/site-packages/mmcv/__init__.py:20: UserWarning: On January 1, 2023, MMCV will release v2.0.0, in which it will remove components related to the training process and add a data transformation module. In addition, it will rename the package names mmcv to mmcv-lite and mmcv-full to mmcv. See https://github.com/open-mmlab/mmcv/blob/master/docs/en/compatibility.md for more details.\n",
      "  warnings.warn(\n",
      "Using /home/allen/.cache/torch_extensions/py310_cu117 as PyTorch extensions root...\n",
      "Detected CUDA files, patching ldflags\n",
      "Emitting ninja build file /home/allen/.cache/torch_extensions/py310_cu117/adam_upd_cuda/build.ninja...\n",
      "Building extension module adam_upd_cuda...\n",
      "Allowing ninja to set a default number of workers... (overridable by setting the environment variable MAX_JOBS=N)\n",
      "ninja: no work to do.\n",
      "Loading extension module adam_upd_cuda...\n",
      "Using /home/allen/.cache/torch_extensions/py310_cu117 as PyTorch extensions root...\n",
      "Detected CUDA files, patching ldflags\n",
      "Emitting ninja build file /home/allen/.cache/torch_extensions/py310_cu117/render_utils_cuda/build.ninja...\n",
      "Building extension module render_utils_cuda...\n",
      "Allowing ninja to set a default number of workers... (overridable by setting the environment variable MAX_JOBS=N)\n",
      "ninja: no work to do.\n",
      "Loading extension module render_utils_cuda...\n",
      "Using /home/allen/.cache/torch_extensions/py310_cu117 as PyTorch extensions root...\n",
      "Detected CUDA files, patching ldflags\n",
      "Emitting ninja build file /home/allen/.cache/torch_extensions/py310_cu117/total_variation_cuda/build.ninja...\n",
      "Building extension module total_variation_cuda...\n",
      "Allowing ninja to set a default number of workers... (overridable by setting the environment variable MAX_JOBS=N)\n",
      "ninja: no work to do.\n",
      "Loading extension module total_variation_cuda...\n",
      "Using /home/allen/.cache/torch_extensions/py310_cu117 as PyTorch extensions root...\n",
      "No modifications detected for re-loaded extension module render_utils_cuda, skipping build step...\n",
      "Loading extension module render_utils_cuda...\n",
      "Using /home/allen/.cache/torch_extensions/py310_cu117 as PyTorch extensions root...\n",
      "Detected CUDA files, patching ldflags\n",
      "Emitting ninja build file /home/allen/.cache/torch_extensions/py310_cu117/ub360_utils_cuda/build.ninja...\n",
      "Building extension module ub360_utils_cuda...\n",
      "Allowing ninja to set a default number of workers... (overridable by setting the environment variable MAX_JOBS=N)\n",
      "ninja: no work to do.\n",
      "Loading extension module ub360_utils_cuda...\n",
      "test json <--- /data/dlcv/hw4/hotdog/transforms_val.json output ---> /data/allen/hw4_1_test/\n",
      "Device : cuda\n",
      "Load model from ./hw4_1_f.tar\n",
      "dvgo: set density bias shift to tensor([-4.5951], device='cpu')\n",
      "dvgo: voxel_size       tensor(0.0107)\n",
      "dvgo: world_size       tensor([237, 237,  72])\n",
      "dvgo: voxel_size_base  tensor(0.0107)\n",
      "dvgo: voxel_size_ratio tensor(1.)\n",
      "dvgo: feature voxel grid DenseGrid(channels=12, world_size=[237, 237, 72])\n",
      "dvgo: mlp Sequential(\n",
      "  (0): Linear(in_features=39, out_features=128, bias=True)\n",
      "  (1): ReLU(inplace=True)\n",
      "  (2): Sequential(\n",
      "    (0): Linear(in_features=128, out_features=128, bias=True)\n",
      "    (1): ReLU(inplace=True)\n",
      "  )\n",
      "  (3): Linear(in_features=128, out_features=3, bias=True)\n",
      ")\n",
      "/home/allen/anaconda3/envs/dlcv/lib/python3.10/site-packages/torch/functional.py:504: UserWarning: torch.meshgrid: in an upcoming release, it will be required to pass the indexing argument. (Triggered internally at /opt/conda/conda-bld/pytorch_1666642969563/work/aten/src/ATen/native/TensorShape.cpp:3190.)\n",
      "  return _VF.meshgrid(tensors, **kwargs)  # type: ignore[attr-defined]\n",
      "All results are dumped into /data/allen/hw4_1_test/\n",
      "  0%|                                                    | 0/50 [00:00<?, ?it/s]Testing (800, 800, 3)\n",
      "100%|███████████████████████████████████████████| 50/50 [00:27<00:00,  1.79it/s]\n",
      "100%|███████████████████████████████████████████| 50/50 [00:22<00:00,  2.23it/s]\n",
      "Done\n"
     ]
    }
   ],
   "source": [
    "!bash hw4_1.sh /data/dlcv/hw4/hotdog/transforms_val.json /data/allen/hw4_1_test/"
   ]
  },
  {
   "cell_type": "code",
   "execution_count": 3,
   "metadata": {},
   "outputs": [
    {
     "name": "stdout",
     "output_type": "stream",
     "text": [
      "  0%|                                                    | 0/50 [00:00<?, ?it/s]init_lpips: lpips_alex\n",
      "Setting up [LPIPS] perceptual loss: trunk [alex], v[0.1], spatial [off]\n",
      "/home/allen/anaconda3/envs/dlcv/lib/python3.10/site-packages/torchvision/models/_utils.py:208: UserWarning: The parameter 'pretrained' is deprecated since 0.13 and may be removed in the future, please use 'weights' instead.\n",
      "  warnings.warn(\n",
      "/home/allen/anaconda3/envs/dlcv/lib/python3.10/site-packages/torchvision/models/_utils.py:223: UserWarning: Arguments other than a weight enum or `None` for 'weights' are deprecated since 0.13 and may be removed in the future. The current behavior is equivalent to passing `weights=AlexNet_Weights.IMAGENET1K_V1`. You can also use `weights=AlexNet_Weights.DEFAULT` to get the most up-to-date weights.\n",
      "  warnings.warn(msg)\n",
      "Loading model from: /home/allen/anaconda3/envs/dlcv/lib/python3.10/site-packages/lpips/weights/v0.1/alex.pth\n",
      "100%|███████████████████████████████████████████| 50/50 [01:08<00:00,  1.37s/it]\n",
      "Testing psnr 35.282581853866574 (avg)\n",
      "Testing ssim 0.9749223034929893 (avg)\n",
      "Testing lpips (alex) 0.021173651274293662 (avg)\n"
     ]
    }
   ],
   "source": [
    "!python3 grade.py /data/allen/hw4_1_test/ /data/dlcv/hw4/hotdog/val/"
   ]
  },
  {
   "cell_type": "code",
   "execution_count": 4,
   "metadata": {},
   "outputs": [
    {
     "name": "stdout",
     "output_type": "stream",
     "text": [
      "Device used : cuda\n",
      "Input <--- /data/dlcv/hw4/office/val.csv /data/dlcv/hw4/office/val/ output ---> ./test.csv\n",
      "load model from hw4_2.pth\n",
      "Predicting...\n",
      "Done\n",
      "acc : 54.187192%\n"
     ]
    }
   ],
   "source": [
    "!bash hw4_2.sh /data/dlcv/hw4/office/val.csv /data/dlcv/hw4/office/val/ ./test.csv\n",
    "!python3 grade2.py ./test.csv /data/dlcv/hw4/office/val.csv"
   ]
  }
 ],
 "metadata": {
  "kernelspec": {
   "display_name": "Python 3",
   "language": "python",
   "name": "python3"
  },
  "language_info": {
   "codemirror_mode": {
    "name": "ipython",
    "version": 3
   },
   "file_extension": ".py",
   "mimetype": "text/x-python",
   "name": "python",
   "nbconvert_exporter": "python",
   "pygments_lexer": "ipython3",
   "version": "3.10.8 | packaged by conda-forge | (main, Nov 22 2022, 08:26:04) [GCC 10.4.0]"
  },
  "orig_nbformat": 4,
  "vscode": {
   "interpreter": {
    "hash": "b129b87ef853288e118a1f4c2954e4d8b1d47adc530c957c0432333233c73696"
   }
  }
 },
 "nbformat": 4,
 "nbformat_minor": 2
}

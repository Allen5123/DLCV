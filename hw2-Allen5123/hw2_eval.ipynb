{
 "cells": [
  {
   "cell_type": "code",
   "execution_count": 1,
   "metadata": {},
   "outputs": [
    {
     "name": "stdout",
     "output_type": "stream",
     "text": [
      "Downloading...\n",
      "From: https://drive.google.com/uc?id=1e-WGzRpcUvJAdPuwIM-OMXFqD9RC_i7L\n",
      "To: /home/allen/DLCV/hw2-Allen5123/hw2_1_G.pth\n",
      "100%|████████████████████████████████████████| 226M/226M [00:02<00:00, 94.3MB/s]\n",
      "Downloading...\n",
      "From: https://drive.google.com/uc?id=1jYOPrklYVO4QFMEdyfckJU_PxMtf8PLI\n",
      "To: /home/allen/DLCV/hw2-Allen5123/hw2_2.pth\n",
      "100%|███████████████████████████████████████| 70.8M/70.8M [00:00<00:00, 104MB/s]\n",
      "Downloading...\n",
      "From: https://drive.google.com/uc?id=1j2h3EdqRIHh3VQmi0dLo1podMsozxySD\n",
      "To: /home/allen/DLCV/hw2-Allen5123/hw2_3_mnistm_svhn_F.pth\n",
      "100%|███████████████████████████████████████| 25.8M/25.8M [00:00<00:00, 105MB/s]\n",
      "Downloading...\n",
      "From: https://drive.google.com/uc?id=1rMzQQcpaZFfEr1Rv_FuvbGKJyR75tB8N\n",
      "To: /home/allen/DLCV/hw2-Allen5123/hw2_3_mnistm_svhn_C.pth\n",
      "100%|██████████████████████████████████████| 6.37M/6.37M [00:00<00:00, 94.9MB/s]\n",
      "Downloading...\n",
      "From: https://drive.google.com/uc?id=1GiOnIf4zRFioYy_gO-_Q1vtMBCpQDH68\n",
      "To: /home/allen/DLCV/hw2-Allen5123/hw2_3_mnistm_usps_F.pth\n",
      "100%|██████████████████████████████████████| 25.7M/25.7M [00:00<00:00, 86.9MB/s]\n",
      "Downloading...\n",
      "From: https://drive.google.com/uc?id=1nGtpTuGVm7NSya9dhLjBnCkWAiybGHeN\n",
      "To: /home/allen/DLCV/hw2-Allen5123/hw2_3_mnistm_usps_C.pth\n",
      "100%|██████████████████████████████████████| 6.37M/6.37M [00:00<00:00, 95.4MB/s]\n"
     ]
    }
   ],
   "source": [
    "!bash hw2_download.sh"
   ]
  },
  {
   "cell_type": "code",
   "execution_count": 2,
   "metadata": {},
   "outputs": [
    {
     "name": "stdout",
     "output_type": "stream",
     "text": [
      "cuda\n",
      "model used : hw2_1_G.pth\n",
      "output --> /data/allen/hw2_1_generate/\n",
      "Generating...\n",
      "[200/1000]\n",
      "[400/1000]\n",
      "[600/1000]\n",
      "[800/1000]\n",
      "[1000/1000]\n",
      "Start face recognition...\n",
      "100%|██████████████████████████████████████| 1000/1000 [00:03<00:00, 283.09it/s]\n",
      "Face recognition Accuracy: 91.100%\n",
      "/home/allen/anaconda3/envs/dlcv/lib/python3.10/site-packages/torchvision/models/_utils.py:208: UserWarning: The parameter 'pretrained' is deprecated since 0.13 and will be removed in 0.15, please use 'weights' instead.\n",
      "  warnings.warn(\n",
      "/home/allen/anaconda3/envs/dlcv/lib/python3.10/site-packages/torchvision/models/_utils.py:223: UserWarning: Arguments other than a weight enum or `None` for 'weights' are deprecated since 0.13 and will be removed in 0.15. The current behavior is equivalent to passing `weights=None`.\n",
      "  warnings.warn(msg)\n",
      "100%|███████████████████████████████████████████| 41/41 [00:06<00:00,  6.71it/s]\n",
      "100%|███████████████████████████████████████████| 20/20 [00:01<00:00, 11.62it/s]\n",
      "FID:  26.255738106144804\n"
     ]
    }
   ],
   "source": [
    "!bash hw2_1.sh /data/allen/hw2_1_generate/\n",
    "!python3 face_recog.py --image_dir /data/allen/hw2_1_generate/\n",
    "!python3 -m pytorch_fid /data/dlcv/hw2/hw2_data/face/val/ /data/allen/hw2_1_generate/ --device cuda:0"
   ]
  },
  {
   "cell_type": "code",
   "execution_count": 3,
   "metadata": {},
   "outputs": [
    {
     "name": "stdout",
     "output_type": "stream",
     "text": [
      "Device used : cuda\n",
      "model used : hw2_2.pth\n",
      "output --> /data/allen/hw2_2_generate/\n",
      "[100/1000]\n",
      "[200/1000]\n",
      "[300/1000]\n",
      "[400/1000]\n",
      "[500/1000]\n",
      "[600/1000]\n",
      "[700/1000]\n",
      "[800/1000]\n",
      "[900/1000]\n",
      "[1000/1000]\n",
      "model loaded from ./Classifier.pth\n",
      "acc = 0.997 (correct/total = 997/1000)\n"
     ]
    }
   ],
   "source": [
    "# !bash hw2_download.sh\n",
    "!bash hw2_2.sh /data/allen/hw2_2_generate/\n",
    "!python3 digit_classifier.py --folder /data/allen/hw2_2_generate/"
   ]
  },
  {
   "cell_type": "code",
   "execution_count": 4,
   "metadata": {},
   "outputs": [
    {
     "name": "stdout",
     "output_type": "stream",
     "text": [
      "Device used : cuda\n",
      "input <--- /data/dlcv/hw2/hw2_data/digits/svhn/data\n",
      "output ---> test_svhn.csv\n",
      "Model used : hw2_3_mnistm_svhn_F.pth hw2_3_mnistm_svhn_C.pth\n",
      "[15886/79431]\n",
      "[31772/79431]\n",
      "[47658/79431]\n",
      "[63544/79431]\n",
      "[79430/79431]\n",
      "[79431/79431] finish\n",
      "Device used : cuda\n",
      "input <--- /data/dlcv/hw2/hw2_data/digits/usps/data\n",
      "output ---> test_usps.csv\n",
      "Model used : hw2_3_mnistm_usps_F.pth hw2_3_mnistm_usps_C.pth\n",
      "[1487/7438]\n",
      "[2974/7438]\n",
      "[4461/7438]\n",
      "[5948/7438]\n",
      "[7435/7438]\n",
      "[7438/7438] finish\n"
     ]
    }
   ],
   "source": [
    "# !bash hw2_download.sh\n",
    "!bash hw2_3.sh /data/dlcv/hw2/hw2_data/digits/svhn/data test_svhn.csv\n",
    "!bash hw2_3.sh /data/dlcv/hw2/hw2_data/digits/usps/data test_usps.csv"
   ]
  }
 ],
 "metadata": {
  "kernelspec": {
   "display_name": "Python 3.10.4 ('dlcv')",
   "language": "python",
   "name": "python3"
  },
  "language_info": {
   "codemirror_mode": {
    "name": "ipython",
    "version": 3
   },
   "file_extension": ".py",
   "mimetype": "text/x-python",
   "name": "python",
   "nbconvert_exporter": "python",
   "pygments_lexer": "ipython3",
   "version": "3.10.6"
  },
  "orig_nbformat": 4,
  "vscode": {
   "interpreter": {
    "hash": "b129b87ef853288e118a1f4c2954e4d8b1d47adc530c957c0432333233c73696"
   }
  }
 },
 "nbformat": 4,
 "nbformat_minor": 2
}
